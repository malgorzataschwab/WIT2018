{
 "cells": [
  {
   "cell_type": "code",
   "execution_count": 44,
   "metadata": {
    "collapsed": true,
    "nbpresent": {
     "id": "62237cc0-f091-4302-b344-121033c07fc4"
    }
   },
   "outputs": [],
   "source": [
    "import numpy as np"
   ]
  },
  {
   "cell_type": "markdown",
   "metadata": {
    "nbpresent": {
     "id": "50c09583-3737-42fb-bc54-d031fdbaddcb"
    }
   },
   "source": [
    "# Input dataset"
   ]
  },
  {
   "cell_type": "markdown",
   "metadata": {
    "nbpresent": {
     "id": "8ec00acf-359b-4403-9f76-5f8045e788bd"
    }
   },
   "source": [
    "| | $x_1$ | $x_2$ | $x_3$ |$y$|\n",
    "|-- | --- | --- | --- |--|\n",
    "|Sample 1| 0 | 0 |1| 0 |\n",
    "|Sample 2| 0 | 1 |1| 1 |\n",
    "|Sample 3| 1 | 1 |1| 1 |\n",
    "|Sample 4| 1 | 1 |1| 0 |"
   ]
  },
  {
   "cell_type": "markdown",
   "metadata": {
    "nbpresent": {
     "id": "e95c9a7a-b385-4796-951c-fafb1241fa65"
    }
   },
   "source": [
    "### Here, $X$ is the input data matrix, where $x_1, x_2, x_3$ are input features (a.k.a., variables, attributes) of the 4 samples.\n",
    "### $y$ is the output vector, containing target label of each of the 4 samples."
   ]
  },
  {
   "cell_type": "markdown",
   "metadata": {
    "nbpresent": {
     "id": "58b6b4a6-2966-4bcd-a152-a15a2a967cce"
    }
   },
   "source": [
    "## Goal: Given two new samples:\n",
    "| | $x_1$ | $x_2$ | $x_3$ |$y$|\n",
    "|-- | --- | --- | --- |--|\n",
    "|Sample 5| 1 | 0 |0| ? |\n",
    "|Sample 6| 0 | 0 |0| ? |\n",
    "## We need to predict their target class labels."
   ]
  },
  {
   "cell_type": "code",
   "execution_count": 37,
   "metadata": {
    "collapsed": true,
    "nbpresent": {
     "id": "5f812296-0060-4c3e-9e62-235ec66f8191"
    }
   },
   "outputs": [],
   "source": [
    "X = np.array( [[0,0,1], [0, 1, 1], [1, 0, 1], [1,1,1]])\n"
   ]
  },
  {
   "cell_type": "code",
   "execution_count": 38,
   "metadata": {
    "nbpresent": {
     "id": "7244e1b3-4cc5-4c4c-bd76-dbf5a66dfff1"
    }
   },
   "outputs": [
    {
     "data": {
      "text/plain": [
       "array([[0, 0, 1],\n",
       "       [0, 1, 1],\n",
       "       [1, 0, 1],\n",
       "       [1, 1, 1]])"
      ]
     },
     "execution_count": 38,
     "metadata": {},
     "output_type": "execute_result"
    }
   ],
   "source": [
    "X"
   ]
  },
  {
   "cell_type": "code",
   "execution_count": 39,
   "metadata": {
    "collapsed": true,
    "nbpresent": {
     "id": "adfdb2ef-c758-42f3-a2fd-6ec1118c4bd7"
    }
   },
   "outputs": [],
   "source": [
    "y = np.array( [ [0], [1], [1], [0]])"
   ]
  },
  {
   "cell_type": "code",
   "execution_count": 40,
   "metadata": {
    "nbpresent": {
     "id": "6ff25a1c-e94a-49ab-b387-ae89dd797f4f"
    }
   },
   "outputs": [
    {
     "data": {
      "text/plain": [
       "array([[0],\n",
       "       [1],\n",
       "       [1],\n",
       "       [0]])"
      ]
     },
     "execution_count": 40,
     "metadata": {},
     "output_type": "execute_result"
    }
   ],
   "source": [
    "y"
   ]
  },
  {
   "cell_type": "markdown",
   "metadata": {},
   "source": [
    "# Constructing & initializing the network"
   ]
  },
  {
   "cell_type": "code",
   "execution_count": 41,
   "metadata": {
    "collapsed": true,
    "nbpresent": {
     "id": "4048cb3e-693a-4f3d-8f3b-39d3d435f940"
    }
   },
   "outputs": [],
   "source": [
    "SynapseMatrix1 = np.random.random((3,4))\n",
    "SynapseMatrix2 = np.random.random((4,1))"
   ]
  },
  {
   "cell_type": "code",
   "execution_count": 42,
   "metadata": {},
   "outputs": [
    {
     "data": {
      "text/plain": [
       "array([[0.87343119, 0.85825995, 0.53739446, 0.00681952],\n",
       "       [0.72593786, 0.45707645, 0.29857254, 0.81004184],\n",
       "       [0.34786019, 0.05219962, 0.76017912, 0.70161249]])"
      ]
     },
     "execution_count": 42,
     "metadata": {},
     "output_type": "execute_result"
    }
   ],
   "source": [
    "SynapseMatrix1"
   ]
  },
  {
   "cell_type": "code",
   "execution_count": 43,
   "metadata": {},
   "outputs": [
    {
     "data": {
      "text/plain": [
       "array([[0.98377904],\n",
       "       [0.13987186],\n",
       "       [0.42502164],\n",
       "       [0.22341134]])"
      ]
     },
     "execution_count": 43,
     "metadata": {},
     "output_type": "execute_result"
    }
   ],
   "source": [
    "SynapseMatrix2"
   ]
  },
  {
   "cell_type": "markdown",
   "metadata": {},
   "source": [
    "# Training step"
   ]
  },
  {
   "cell_type": "code",
   "execution_count": 28,
   "metadata": {
    "collapsed": true
   },
   "outputs": [],
   "source": [
    "def sigmoidActivation(x):\n",
    "    return 1 / (1 + np.exp(-x))\n",
    "    # return expit(x)     #More practical solution. However, you need to import it: from scipy.special import expit"
   ]
  },
  {
   "cell_type": "code",
   "execution_count": 29,
   "metadata": {
    "collapsed": true
   },
   "outputs": [],
   "source": [
    "def derivative_of_sigmoid(x):\n",
    "    return x*(1-x)"
   ]
  },
  {
   "cell_type": "code",
   "execution_count": 30,
   "metadata": {},
   "outputs": [
    {
     "name": "stdout",
     "output_type": "stream",
     "text": [
      "Error: 0.49709211349468047\n",
      "Error: 0.06296426951908099\n",
      "Error: 0.0354222132843419\n",
      "Error: 0.026825821274925943\n",
      "Error: 0.02233430842704525\n",
      "Error: 0.01948519428985094\n",
      "Error: 0.01747975646199209\n",
      "Error: 0.015973063439082863\n",
      "Error: 0.014789258119871095\n",
      "Error: 0.013828274136270951\n",
      "Error: 0.013028521864787791\n",
      "Error: 0.012349787236456876\n",
      "Error: 0.011764573605359582\n",
      "Error: 0.0112533702984512\n",
      "Error: 0.010801905426620795\n",
      "Error: 0.010399470102510345\n",
      "Error: 0.010037853418818644\n",
      "Error: 0.009710641724627853\n",
      "Error: 0.009412743703277422\n",
      "Error: 0.009140060106600014\n",
      "Error: 0.00888924885935793\n",
      "Error: 0.008657554643826382\n",
      "Error: 0.008442683062128548\n",
      "Error: 0.008242706235298134\n",
      "Error: 0.008055990970479817\n",
      "Error: 0.007881143392190438\n",
      "Error: 0.007716965760972702\n",
      "Error: 0.007562422434336797\n",
      "Error: 0.0074166127695998825\n",
      "Error: 0.007278749357018609\n",
      "Error: 0.007148140388093507\n",
      "Error: 0.007024175262565236\n",
      "Error: 0.006906312754464883\n",
      "Error: 0.0067940712168717155\n",
      "Error: 0.006687020423318117\n",
      "Error: 0.006584774732509629\n",
      "Error: 0.006486987330210876\n",
      "Error: 0.006393345353467151\n",
      "Error: 0.006303565741864039\n",
      "Error: 0.006217391691209164\n",
      "Error: 0.006134589609015225\n",
      "Error: 0.006054946490054462\n",
      "Error: 0.005978267645229483\n",
      "Error: 0.005904374728941397\n",
      "Error: 0.005833104019718609\n",
      "Error: 0.005764304916589161\n",
      "Error: 0.0056978386199489535\n",
      "Error: 0.005633576970779696\n",
      "Error: 0.005571401426253443\n",
      "Error: 0.00551120215319815\n",
      "Error: 0.005452877223741966\n",
      "Error: 0.005396331899810702\n",
      "Error: 0.005341477995118063\n",
      "Error: 0.005288233304929648\n",
      "Error: 0.005236521095262084\n",
      "Error: 0.005186269644337814\n",
      "Error: 0.005137411830099571\n",
      "Error: 0.0050898847584196286\n",
      "Error: 0.005043629427345512\n",
      "Error: 0.004998590423331657\n",
      "Error: 0.004954715645917904\n",
      "Error: 0.004911956057763667\n",
      "Error: 0.004870265457325098\n",
      "Error: 0.004829600271792868\n",
      "Error: 0.004789919368192011\n",
      "Error: 0.0047511838807930366\n",
      "Error: 0.004713357053195868\n",
      "Error: 0.004676404093637211\n",
      "Error: 0.004640292042232548\n",
      "Error: 0.004604989649007899\n",
      "Error: 0.004570467261701217\n",
      "Error: 0.0045366967224222034\n",
      "Error: 0.004503651272356284\n",
      "Error: 0.004471305463784635\n",
      "Error: 0.0044396350787644385\n",
      "Error: 0.004408617053884115\n",
      "Error: 0.004378229410563034\n",
      "Error: 0.00434845119042091\n",
      "Error: 0.004319262395286174\n",
      "Error: 0.004290643931456187\n",
      "Error: 0.0042625775578569594\n",
      "Error: 0.0042350458377851475\n",
      "Error: 0.00420803209394309\n",
      "Error: 0.004181520366504757\n",
      "Error: 0.004155495373975259\n",
      "Error: 0.004129942476624823\n",
      "Error: 0.004104847642301868\n",
      "Error: 0.004080197414443316\n",
      "Error: 0.004055978882116401\n",
      "Error: 0.004032179651944327\n",
      "Error: 0.004008787821773869\n",
      "Error: 0.003985791955961133\n",
      "Error: 0.003963181062158966\n",
      "Error: 0.003940944569498314\n",
      "Error: 0.0039190723080673355\n",
      "Error: 0.0038975544895966273\n",
      "Error: 0.0038763816892690623\n",
      "Error: 0.0038555448285763527\n",
      "Error: 0.0038350351591534817\n",
      "Error: 0.0038148442475240763\n",
      "Output after training:\n",
      "[[0.001344  ]\n",
      " [0.99565062]\n",
      " [0.99579784]\n",
      " [0.0052844 ]]\n"
     ]
    }
   ],
   "source": [
    "for i in np.arange(100000):\n",
    "    layer0 = X\n",
    "    layer1 = sigmoidActivation(np.dot(layer0, SynapseMatrix1))\n",
    "    layer2 = sigmoidActivation(np.dot(layer1, SynapseMatrix2))\n",
    "    \n",
    "    layer2_error = y - layer2\n",
    "    \n",
    "    if (i% 1000)==0:\n",
    "        print (\"Error: \"+str(np.mean(np.abs(layer2_error))))\n",
    "    \n",
    "    layer2_delta = layer2_error*derivative_of_sigmoid(layer2)\n",
    "    \n",
    "    \n",
    "    layer1_error = layer2_delta.dot(SynapseMatrix2.T)\n",
    "    \n",
    "    layer1_delta = layer1_error*derivative_of_sigmoid(layer1)\n",
    "    \n",
    "    #Update weights\n",
    "    SynapseMatrix2 = SynapseMatrix2 + layer1.T.dot(layer2_delta)\n",
    "    SynapseMatrix1 = SynapseMatrix1 + layer0.T.dot(layer1_delta)\n",
    "\n",
    "#output after the training\n",
    "print(\"Output after training:\")\n",
    "print(layer2)"
   ]
  },
  {
   "cell_type": "code",
   "execution_count": 31,
   "metadata": {},
   "outputs": [
    {
     "data": {
      "text/plain": [
       "array([ 0,  1,  2,  3,  4,  5,  6,  7,  8,  9, 10, 11, 12, 13, 14, 15, 16,\n",
       "       17, 18, 19, 20, 21, 22, 23, 24, 25, 26, 27, 28, 29, 30, 31, 32, 33,\n",
       "       34, 35, 36, 37, 38, 39, 40, 41, 42, 43, 44, 45, 46, 47, 48, 49, 50,\n",
       "       51, 52, 53, 54, 55, 56, 57, 58, 59, 60, 61, 62, 63, 64, 65, 66, 67,\n",
       "       68, 69, 70, 71, 72, 73, 74, 75, 76, 77, 78, 79, 80, 81, 82, 83, 84,\n",
       "       85, 86, 87, 88, 89, 90, 91, 92, 93, 94, 95, 96, 97, 98, 99])"
      ]
     },
     "execution_count": 31,
     "metadata": {},
     "output_type": "execute_result"
    }
   ],
   "source": [
    "np.arange(100)"
   ]
  },
  {
   "cell_type": "code",
   "execution_count": 32,
   "metadata": {
    "collapsed": true
   },
   "outputs": [],
   "source": [
    "# Sample 5\n",
    "layer0 = np.array( [[1,0,0]])\n",
    "layer1 = sigmoidActivation(np.dot(layer0, SynapseMatrix1))\n",
    "layer2 = sigmoidActivation(np.dot(layer1, SynapseMatrix2))"
   ]
  },
  {
   "cell_type": "code",
   "execution_count": 33,
   "metadata": {},
   "outputs": [
    {
     "data": {
      "text/plain": [
       "array([[0.9950113]])"
      ]
     },
     "execution_count": 33,
     "metadata": {},
     "output_type": "execute_result"
    }
   ],
   "source": [
    "layer2"
   ]
  },
  {
   "cell_type": "code",
   "execution_count": 34,
   "metadata": {
    "collapsed": true
   },
   "outputs": [],
   "source": [
    "# Sample 6\n",
    "layer0 = np.array( [[0,0,0]])\n",
    "layer1 = sigmoidActivation(np.dot(layer0, SynapseMatrix1))\n",
    "layer2 = sigmoidActivation(np.dot(layer1, SynapseMatrix2))"
   ]
  },
  {
   "cell_type": "code",
   "execution_count": 35,
   "metadata": {},
   "outputs": [
    {
     "data": {
      "text/plain": [
       "array([[0.06083391]])"
      ]
     },
     "execution_count": 35,
     "metadata": {},
     "output_type": "execute_result"
    }
   ],
   "source": [
    "layer2"
   ]
  },
  {
   "cell_type": "code",
   "execution_count": null,
   "metadata": {
    "collapsed": true
   },
   "outputs": [],
   "source": []
  },
  {
   "cell_type": "code",
   "execution_count": null,
   "metadata": {
    "collapsed": true
   },
   "outputs": [],
   "source": []
  }
 ],
 "metadata": {
  "kernelspec": {
   "display_name": "Python 3",
   "language": "python",
   "name": "python3"
  },
  "language_info": {
   "codemirror_mode": {
    "name": "ipython",
    "version": 3
   },
   "file_extension": ".py",
   "mimetype": "text/x-python",
   "name": "python",
   "nbconvert_exporter": "python",
   "pygments_lexer": "ipython3",
   "version": "3.6.3"
  }
 },
 "nbformat": 4,
 "nbformat_minor": 2
}
